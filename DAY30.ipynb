{
 "cells": [
  {
   "cell_type": "markdown",
   "id": "ff3f306d-8f9c-4e14-b1c5-8556c717aca5",
   "metadata": {},
   "source": [
    "# ANSWER 1"
   ]
  },
  {
   "cell_type": "code",
   "execution_count": 3,
   "id": "f6d0061e-43ee-4f72-aa33-e8d43f710146",
   "metadata": {},
   "outputs": [
    {
     "name": "stdin",
     "output_type": "stream",
     "text": [
      "Enter marks 70\n"
     ]
    },
    {
     "name": "stdout",
     "output_type": "stream",
     "text": [
      "Grade C\n"
     ]
    }
   ],
   "source": [
    "mark_grade=int(input(\"Enter marks\"))\n",
    "if mark_grade>90:\n",
    "    print(\"Grade A\")\n",
    "elif mark_grade>80 and mark_grade<=90:\n",
    "    print(\"Grade B\")\n",
    "elif mark_grade>=60 and mark_grade<=80:\n",
    "    print(\"Grade C\")\n",
    "elif mark_grade<60:\n",
    "    print(\"Grade D\")"
   ]
  },
  {
   "cell_type": "markdown",
   "id": "6ac50bf6-cb0d-43a1-89de-1452bf456ed5",
   "metadata": {},
   "source": [
    "# ANSWER 2"
   ]
  },
  {
   "cell_type": "code",
   "execution_count": 4,
   "id": "389ad339-6091-4f17-8d37-3a396878ef2d",
   "metadata": {},
   "outputs": [
    {
     "name": "stdin",
     "output_type": "stream",
     "text": [
      "Enter costprice 5000\n"
     ]
    },
    {
     "name": "stdout",
     "output_type": "stream",
     "text": [
      "Tax is 5%\n"
     ]
    }
   ],
   "source": [
    "costprice= int(input(\"Enter costprice\"))\n",
    "if costprice>100000:\n",
    "    print(\"Tax is 15%\") \n",
    "elif costprice>50000 and costprice<=100000:\n",
    "    print(\"Tax is 10%\")\n",
    "elif costprice<=50000:\n",
    "    print(\"Tax is 5%\")"
   ]
  },
  {
   "cell_type": "markdown",
   "id": "1f974afd-8c0d-4542-95f6-a2729a06b4b0",
   "metadata": {},
   "source": [
    "# ANSWER 3"
   ]
  },
  {
   "cell_type": "code",
   "execution_count": 6,
   "id": "5e2fd59e-9060-4f2e-873f-e8a2040801fd",
   "metadata": {},
   "outputs": [
    {
     "name": "stdin",
     "output_type": "stream",
     "text": [
      "Enter city Delhi\n"
     ]
    },
    {
     "name": "stdout",
     "output_type": "stream",
     "text": [
      "It has monument Red Fort\n"
     ]
    }
   ],
   "source": [
    "city = input(\"Enter city\")\n",
    "if city=='Delhi':\n",
    "    print(\"It has monument Red Fort\")\n",
    "if city=='Agra':\n",
    "    print(\"It has monument Taj Mahal\")\n",
    "if city=='Jaipur':\n",
    "    print(\"It has monument Jal Mahal\")"
   ]
  },
  {
   "cell_type": "markdown",
   "id": "89378784-219b-49ab-a1a8-05ce1ac9ab26",
   "metadata": {},
   "source": [
    "# ANSWER 4"
   ]
  },
  {
   "cell_type": "code",
   "execution_count": 7,
   "id": "1a1d99f1-076d-4871-854f-e4e5eb0439e1",
   "metadata": {},
   "outputs": [
    {
     "name": "stdout",
     "output_type": "stream",
     "text": [
      "0\n",
      "3\n",
      "6\n",
      "9\n"
     ]
    }
   ],
   "source": [
    "for i in range(0,10):\n",
    "    if i%3==0:\n",
    "        print(i)"
   ]
  },
  {
   "cell_type": "markdown",
   "id": "facf62cd-53ce-4e40-aee1-c1eaa25cbdf6",
   "metadata": {},
   "source": [
    "# ANSWER 5"
   ]
  },
  {
   "cell_type": "markdown",
   "id": "e5f0886f-6fb6-4a7c-8d4b-736eab50cec7",
   "metadata": {},
   "source": [
    "#### Python while loop is used to run a block of code until a certain condition is met. While loop evaluates the condition. If the condition evaluates to True, the code inside the while loop is executed.\n",
    "\n",
    "\n",
    "i=1\n",
    "\n",
    "n=5\n",
    "\n",
    "while i<=n:\n",
    "\n",
    "  print(i)\n",
    "  \n",
    "  i=i+1\n",
    "  "
   ]
  },
  {
   "cell_type": "markdown",
   "id": "5cf76492-16f6-42e4-afd9-40eb32f33c1b",
   "metadata": {},
   "source": [
    "# ANSWER 6"
   ]
  },
  {
   "cell_type": "code",
   "execution_count": 8,
   "id": "79239bc7-6579-4026-a479-6e341249af75",
   "metadata": {},
   "outputs": [
    {
     "name": "stdout",
     "output_type": "stream",
     "text": [
      "*  \n",
      "* *  \n",
      "* * *  \n",
      "* * * *  \n",
      "* * * * *  \n"
     ]
    }
   ],
   "source": [
    "i=1\n",
    "while i<=5:\n",
    "    j=1\n",
    "    while j<=i:\n",
    "        print('*',end =\" \")\n",
    "        j=j+1\n",
    "    print(\" \")\n",
    "    i=i+1"
   ]
  },
  {
   "cell_type": "code",
   "execution_count": 9,
   "id": "a39521ac-e4a4-4ca8-9b3a-22d07db09b0e",
   "metadata": {},
   "outputs": [
    {
     "name": "stdout",
     "output_type": "stream",
     "text": [
      "* * * * *  \n",
      "* * * *  \n",
      "* * *  \n",
      "* *  \n",
      "*  \n"
     ]
    }
   ],
   "source": [
    "\n",
    "\n",
    "i=5\n",
    "while i>=1:\n",
    "    j=1\n",
    "    while j<=i:\n",
    "        print('*',end =\" \")\n",
    "        j=j+1\n",
    "    print(\" \")\n",
    "    i=i-1"
   ]
  },
  {
   "cell_type": "code",
   "execution_count": 1,
   "id": "6ace3c09-21a8-4d73-b356-e2726339202f",
   "metadata": {},
   "outputs": [
    {
     "name": "stdout",
     "output_type": "stream",
     "text": [
      "*  \n",
      "* *  \n",
      "* * *  \n",
      "* * * *  \n",
      "* * * * *  \n",
      "* * * * * *  \n",
      "* * * * *  \n",
      "* * * *  \n",
      "* * *  \n",
      "* *  \n",
      "*  \n"
     ]
    }
   ],
   "source": [
    "i=1\n",
    "while i<=5:\n",
    "    j=1\n",
    "    while j<=i:\n",
    "        print('*',end =\" \")\n",
    "        j=j+1\n",
    "    print(\" \")\n",
    "    i=i+1\n",
    "i=6\n",
    "while i>=1:\n",
    "    j=1\n",
    "    while j<=i:\n",
    "        print('*',end =\" \")\n",
    "        j=j+1\n",
    "    print(\" \")\n",
    "    i=i-1"
   ]
  },
  {
   "cell_type": "markdown",
   "id": "00308727-52c2-436c-bff5-7ef455a7a98d",
   "metadata": {},
   "source": [
    "# ANSWER 7"
   ]
  },
  {
   "cell_type": "code",
   "execution_count": 2,
   "id": "cccce638-4c18-4d27-98d4-aedee0d1c881",
   "metadata": {},
   "outputs": [
    {
     "name": "stdout",
     "output_type": "stream",
     "text": [
      "10\n",
      "9\n",
      "8\n",
      "7\n",
      "6\n",
      "5\n",
      "4\n",
      "3\n",
      "2\n",
      "1\n"
     ]
    }
   ],
   "source": [
    "i=10\n",
    "\n",
    "n=1\n",
    "\n",
    "while i>=n:\n",
    "    print(i)\n",
    "    i=i-1\n",
    "  "
   ]
  },
  {
   "cell_type": "markdown",
   "id": "8c7e0ad8-ca00-430c-8b87-eedbabbea2fc",
   "metadata": {},
   "source": [
    "# ANSWER 8"
   ]
  },
  {
   "cell_type": "code",
   "execution_count": 3,
   "id": "93765d80-0c68-49d4-b7fa-1c613211600e",
   "metadata": {},
   "outputs": [
    {
     "name": "stdout",
     "output_type": "stream",
     "text": [
      "10\n",
      "9\n",
      "8\n",
      "7\n",
      "6\n",
      "5\n",
      "4\n",
      "3\n",
      "2\n",
      "1\n"
     ]
    }
   ],
   "source": [
    "i=10\n",
    "\n",
    "n=1\n",
    "\n",
    "while i>=n:\n",
    "    print(i)\n",
    "    i=i-1\n",
    "  "
   ]
  },
  {
   "cell_type": "code",
   "execution_count": null,
   "id": "7200755c-14b4-454f-a034-27a91cab6a84",
   "metadata": {},
   "outputs": [],
   "source": []
  },
  {
   "cell_type": "code",
   "execution_count": null,
   "id": "a2fcfd95-7b5e-4975-b699-e72c5a1b22c6",
   "metadata": {},
   "outputs": [],
   "source": []
  },
  {
   "cell_type": "code",
   "execution_count": null,
   "id": "e14fe6ec-2b6c-49df-a56e-41a089756aa1",
   "metadata": {},
   "outputs": [],
   "source": []
  },
  {
   "cell_type": "code",
   "execution_count": null,
   "id": "66cc0c30-a4af-4f12-a05b-4817d561619e",
   "metadata": {},
   "outputs": [],
   "source": []
  },
  {
   "cell_type": "code",
   "execution_count": null,
   "id": "012bc75c-b965-449b-a79d-44f07e34d13f",
   "metadata": {},
   "outputs": [],
   "source": []
  },
  {
   "cell_type": "code",
   "execution_count": null,
   "id": "73ab2f0d-e5b5-451e-8f0d-841c160fa78e",
   "metadata": {},
   "outputs": [],
   "source": []
  },
  {
   "cell_type": "code",
   "execution_count": null,
   "id": "b7e50037-2c5f-4661-a8ac-845e4fddcd67",
   "metadata": {},
   "outputs": [],
   "source": []
  },
  {
   "cell_type": "code",
   "execution_count": null,
   "id": "bafbe31b-f657-47ff-a506-5218618399f1",
   "metadata": {},
   "outputs": [],
   "source": []
  },
  {
   "cell_type": "code",
   "execution_count": null,
   "id": "ccb9572a-52e4-415c-a6dd-016ba3716fa5",
   "metadata": {},
   "outputs": [],
   "source": []
  },
  {
   "cell_type": "code",
   "execution_count": null,
   "id": "ea33c486-3132-4da3-bdf2-2b6d6c7593bf",
   "metadata": {},
   "outputs": [],
   "source": []
  },
  {
   "cell_type": "code",
   "execution_count": null,
   "id": "10679c6d-342b-4c93-9210-dcae57f81a1a",
   "metadata": {},
   "outputs": [],
   "source": []
  },
  {
   "cell_type": "code",
   "execution_count": null,
   "id": "5a6b15a4-717b-43a2-9ad7-b5f87b69c61c",
   "metadata": {},
   "outputs": [],
   "source": []
  },
  {
   "cell_type": "code",
   "execution_count": null,
   "id": "10e81e06-cf52-4bcd-aa13-9aaf189ea676",
   "metadata": {},
   "outputs": [],
   "source": []
  },
  {
   "cell_type": "code",
   "execution_count": null,
   "id": "8f3a61ae-54de-4a79-8226-81b22b8d2521",
   "metadata": {},
   "outputs": [],
   "source": []
  },
  {
   "cell_type": "code",
   "execution_count": null,
   "id": "ced2f33b-f6e1-4232-a42f-10676de4ec5f",
   "metadata": {},
   "outputs": [],
   "source": []
  }
 ],
 "metadata": {
  "kernelspec": {
   "display_name": "Python 3 (ipykernel)",
   "language": "python",
   "name": "python3"
  },
  "language_info": {
   "codemirror_mode": {
    "name": "ipython",
    "version": 3
   },
   "file_extension": ".py",
   "mimetype": "text/x-python",
   "name": "python",
   "nbconvert_exporter": "python",
   "pygments_lexer": "ipython3",
   "version": "3.10.8"
  }
 },
 "nbformat": 4,
 "nbformat_minor": 5
}
